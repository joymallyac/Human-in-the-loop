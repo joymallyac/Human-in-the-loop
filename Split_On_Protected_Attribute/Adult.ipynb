{
 "cells": [
  {
   "cell_type": "code",
   "execution_count": 1,
   "metadata": {},
   "outputs": [],
   "source": [
    "## Here I am dividing the data first based onto protected attribute value and then train two separate models\n",
    "\n",
    "import pandas as pd\n",
    "import random,time,csv\n",
    "import numpy as np\n",
    "import math,copy,os\n",
    "from sklearn.linear_model import LogisticRegression\n",
    "from sklearn.tree import DecisionTreeRegressor\n",
    "from sklearn.model_selection import train_test_split\n",
    "from sklearn.metrics import classification_report, confusion_matrix, accuracy_score\n",
    "from sklearn import tree\n",
    "from sklearn.naive_bayes import GaussianNB\n",
    "from sklearn.ensemble import RandomForestClassifier\n",
    "from sklearn.svm import SVC\n",
    "import sklearn.metrics as metrics\n",
    "\n",
    "import sys\n",
    "sys.path.append(os.path.abspath('..'))\n",
    "\n",
    "from Measure import measure_final_score,calculate_recall,calculate_F1,calculate_precision,calculate_accuracy"
   ]
  },
  {
   "cell_type": "code",
   "execution_count": 2,
   "metadata": {},
   "outputs": [
    {
     "name": "stdout",
     "output_type": "stream",
     "text": [
      "(41762, 8)\n",
      "(7080, 8)\n"
     ]
    },
    {
     "name": "stderr",
     "output_type": "stream",
     "text": [
      "c:\\users\\jchakra\\python\\lib\\site-packages\\sklearn\\preprocessing\\data.py:323: DataConversionWarning: Data with input dtype int32, int64 were all converted to float64 by MinMaxScaler.\n",
      "  return self.partial_fit(X, y)\n"
     ]
    }
   ],
   "source": [
    "## Load dataset\n",
    "from sklearn import preprocessing\n",
    "dataset_orig = pd.read_csv('../dataset/adult.data.csv')\n",
    "\n",
    "## Drop NULL values\n",
    "dataset_orig = dataset_orig.dropna()\n",
    "\n",
    "## Drop categorical features\n",
    "dataset_orig = dataset_orig.drop(['workclass','fnlwgt','education','marital-status','occupation','relationship','native-country'],axis=1)\n",
    "\n",
    "## Change symbolics to numerics\n",
    "dataset_orig['sex'] = np.where(dataset_orig['sex'] == ' Male', 1, 0)\n",
    "dataset_orig['race'] = np.where(dataset_orig['race'] != ' White', 0, 1)\n",
    "dataset_orig['Probability'] = np.where(dataset_orig['Probability'] == ' <=50K', 0, 1)\n",
    "\n",
    "\n",
    "## Discretize age\n",
    "dataset_orig['age'] = np.where(dataset_orig['age'] >= 70, 70, dataset_orig['age'])\n",
    "dataset_orig['age'] = np.where((dataset_orig['age'] >= 60 ) & (dataset_orig['age'] < 70), 60, dataset_orig['age'])\n",
    "dataset_orig['age'] = np.where((dataset_orig['age'] >= 50 ) & (dataset_orig['age'] < 60), 50, dataset_orig['age'])\n",
    "dataset_orig['age'] = np.where((dataset_orig['age'] >= 40 ) & (dataset_orig['age'] < 50), 40, dataset_orig['age'])\n",
    "dataset_orig['age'] = np.where((dataset_orig['age'] >= 30 ) & (dataset_orig['age'] < 40), 30, dataset_orig['age'])\n",
    "dataset_orig['age'] = np.where((dataset_orig['age'] >= 20 ) & (dataset_orig['age'] < 30), 20, dataset_orig['age'])\n",
    "dataset_orig['age'] = np.where((dataset_orig['age'] >= 10 ) & (dataset_orig['age'] < 10), 10, dataset_orig['age'])\n",
    "dataset_orig['age'] = np.where(dataset_orig['age'] < 10, 0, dataset_orig['age'])\n",
    "\n",
    "\n",
    "\n",
    "from sklearn.preprocessing import MinMaxScaler\n",
    "\n",
    "scaler = MinMaxScaler()\n",
    "dataset_orig = pd.DataFrame(scaler.fit_transform(dataset_orig),columns = dataset_orig.columns)\n",
    "\n",
    "\n",
    "\n",
    "# divide the data based on sex\n",
    "dataset_orig_male , dataset_orig_female = [x for _, x in dataset_orig.groupby(dataset_orig['race'] == 0)]\n",
    "\n",
    "print(dataset_orig_male.shape)\n",
    "print(dataset_orig_female.shape)"
   ]
  },
  {
   "cell_type": "markdown",
   "metadata": {},
   "source": [
    "# Check Original Scores"
   ]
  },
  {
   "cell_type": "code",
   "execution_count": 3,
   "metadata": {},
   "outputs": [
    {
     "name": "stdout",
     "output_type": "stream",
     "text": [
      "(48842, 8)\n",
      "7090 382 1333 964\n",
      "899 5923 1187 368 65 1167 146 14\n",
      "recall : 0.42\n",
      "7090 382 1333 964\n",
      "899 5923 1187 368 65 1167 146 14\n",
      "far : 0.05\n",
      "7090 382 1333 964\n",
      "899 5923 1187 368 65 1167 146 14\n",
      "precision : 0.72\n",
      "7090 382 1333 964\n",
      "899 5923 1187 368 65 1167 146 14\n",
      "accuracy : 0.82\n",
      "7090 382 1333 964\n",
      "899 5923 1187 368 65 1167 146 14\n",
      "F1 Score : 0.53\n",
      "7090 382 1333 964\n",
      "899 5923 1187 368 65 1167 146 14\n",
      "FPR_male: 0.0584962645048482 FPR_female: 0.011854360711261643\n",
      "TPR_male: 0.43096836049856185 TPR_female: 0.3080568720379147\n",
      "aod sex: 0.03\n",
      "7090 382 1333 964\n",
      "899 5923 1187 368 65 1167 146 14\n",
      "TPR_male: 0.43096836049856185 TPR_female: 0.3080568720379147\n",
      "eod sex: 0.12\n",
      "7090 382 1333 964\n",
      "899 5923 1187 368 65 1167 146 14\n",
      "TPR_male: 0.43096836049856185 TPR_female: 0.3080568720379147\n",
      "TPR: 0.12\n",
      "7090 382 1333 964\n",
      "899 5923 1187 368 65 1167 146 14\n",
      "FPR_male: 0.0584962645048482 FPR_female: 0.011854360711261643\n",
      "FPR: -0.05\n"
     ]
    }
   ],
   "source": [
    "print(dataset_orig.shape)\n",
    "# np.random.seed(0)\n",
    "## Divide into train,validation,test\n",
    "dataset_orig_train, dataset_orig_test = train_test_split(dataset_orig, test_size=0.2, random_state=0,shuffle = True)\n",
    "\n",
    "X_train, y_train = dataset_orig_train.loc[:, dataset_orig_train.columns != 'Probability'], dataset_orig_train['Probability']\n",
    "X_test , y_test = dataset_orig_test.loc[:, dataset_orig_test.columns != 'Probability'], dataset_orig_test['Probability']\n",
    "\n",
    "# --- LSR\n",
    "clf = LogisticRegression(C=1.0, penalty='l2', solver='liblinear', max_iter=100)\n",
    "\n",
    "\n",
    "print(\"recall :\", measure_final_score(dataset_orig_test, clf, X_train, y_train, X_test, y_test, 'race', 'recall'))\n",
    "print(\"far :\",measure_final_score(dataset_orig_test, clf, X_train, y_train, X_test, y_test, 'race', 'far'))\n",
    "print(\"precision :\", measure_final_score(dataset_orig_test, clf, X_train, y_train, X_test, y_test, 'race', 'precision'))\n",
    "print(\"accuracy :\",measure_final_score(dataset_orig_test, clf, X_train, y_train, X_test, y_test, 'race', 'accuracy'))\n",
    "print(\"F1 Score :\",measure_final_score(dataset_orig_test, clf, X_train, y_train, X_test, y_test, 'race', 'F1'))\n",
    "print(\"aod sex:\",measure_final_score(dataset_orig_test, clf, X_train, y_train, X_test, y_test, 'race', 'aod'))\n",
    "print(\"eod sex:\",measure_final_score(dataset_orig_test, clf, X_train, y_train, X_test, y_test, 'race', 'eod'))\n",
    "\n",
    "print(\"TPR:\",measure_final_score(dataset_orig_test, clf, X_train, y_train, X_test, y_test, 'race', 'TPR'))\n",
    "print(\"FPR:\",measure_final_score(dataset_orig_test, clf, X_train, y_train, X_test, y_test, 'race', 'FPR'))"
   ]
  },
  {
   "cell_type": "markdown",
   "metadata": {},
   "source": [
    "# Train the model for male"
   ]
  },
  {
   "cell_type": "code",
   "execution_count": 4,
   "metadata": {},
   "outputs": [
    {
     "data": {
      "text/plain": [
       "LogisticRegression(C=1.0, class_weight=None, dual=False, fit_intercept=True,\n",
       "          intercept_scaling=1, max_iter=100, multi_class='warn',\n",
       "          n_jobs=None, penalty='l2', random_state=None, solver='liblinear',\n",
       "          tol=0.0001, verbose=0, warm_start=False)"
      ]
     },
     "execution_count": 4,
     "metadata": {},
     "output_type": "execute_result"
    }
   ],
   "source": [
    "dataset_orig_male['race'] = 0\n",
    "X_train_male, y_train_male = dataset_orig_male.loc[:, dataset_orig_male.columns != 'Probability'], dataset_orig_male['Probability']\n",
    "# --- LSR\n",
    "clf_male = LogisticRegression(C=1.0, penalty='l2', solver='liblinear', max_iter=100)\n",
    "clf_male.fit(X_train_male, y_train_male)"
   ]
  },
  {
   "cell_type": "markdown",
   "metadata": {},
   "source": [
    "# Train the model for female"
   ]
  },
  {
   "cell_type": "code",
   "execution_count": 5,
   "metadata": {},
   "outputs": [
    {
     "data": {
      "text/plain": [
       "LogisticRegression(C=1.0, class_weight=None, dual=False, fit_intercept=True,\n",
       "          intercept_scaling=1, max_iter=100, multi_class='warn',\n",
       "          n_jobs=None, penalty='l2', random_state=None, solver='liblinear',\n",
       "          tol=0.0001, verbose=0, warm_start=False)"
      ]
     },
     "execution_count": 5,
     "metadata": {},
     "output_type": "execute_result"
    }
   ],
   "source": [
    "X_train_female, y_train_female = dataset_orig_female.loc[:, dataset_orig_female.columns != 'Probability'], dataset_orig_female['Probability']\n",
    "# --- LSR\n",
    "clf_female = LogisticRegression(C=1.0, penalty='l2', solver='liblinear', max_iter=100)\n",
    "clf_female.fit(X_train_female, y_train_female)"
   ]
  },
  {
   "cell_type": "markdown",
   "metadata": {},
   "source": [
    "# Remove biased rows"
   ]
  },
  {
   "cell_type": "code",
   "execution_count": 6,
   "metadata": {},
   "outputs": [
    {
     "name": "stdout",
     "output_type": "stream",
     "text": [
      "(48842, 8)\n",
      "(46527, 8)\n",
      "(2315, 8)\n"
     ]
    }
   ],
   "source": [
    "print(dataset_orig.shape)\n",
    "\n",
    "df_removed = pd.DataFrame(columns=dataset_orig.columns)\n",
    "\n",
    "for index,row in dataset_orig.iterrows():\n",
    "    row_ = [row.values[0:len(row.values)-1]]\n",
    "    y_male = clf_male.predict(row_)\n",
    "    y_female = clf_female.predict(row_)\n",
    "    if y_male[0] != y_female[0]:        \n",
    "        df_removed = df_removed.append(row, ignore_index=True)\n",
    "        dataset_orig = dataset_orig.drop(index)\n",
    "        \n",
    "print(dataset_orig.shape)\n",
    "print(df_removed.shape)\n"
   ]
  },
  {
   "cell_type": "markdown",
   "metadata": {},
   "source": [
    "# Store unbiased data into new csv "
   ]
  },
  {
   "cell_type": "code",
   "execution_count": 7,
   "metadata": {},
   "outputs": [],
   "source": [
    "# fp = open('Adult_Sex.csv', 'w' , newline='')\n",
    "# myFile = csv.writer(fp)\n",
    "# column_names = ['age', 'education-num', 'race', 'sex', 'capital-gain', 'capital-loss', 'hours-per-week', 'Probability']\n",
    "# myFile.writerow(column_names)\n",
    "\n",
    "\n",
    "# for index,row in dataset_orig.iterrows():\n",
    "#     myFile.writerow(row)"
   ]
  },
  {
   "cell_type": "markdown",
   "metadata": {},
   "source": [
    "# Train new model on unbiased data"
   ]
  },
  {
   "cell_type": "code",
   "execution_count": 8,
   "metadata": {},
   "outputs": [
    {
     "name": "stdout",
     "output_type": "stream",
     "text": [
      "(46527, 8)\n",
      "7009 250 1345 702\n",
      "647 5826 1226 233 55 1183 119 17\n",
      "recall : 0.34\n",
      "7009 250 1345 702\n",
      "647 5826 1226 233 55 1183 119 17\n",
      "far : 0.03\n",
      "7009 250 1345 702\n",
      "647 5826 1226 233 55 1183 119 17\n",
      "precision : 0.74\n",
      "7009 250 1345 702\n",
      "647 5826 1226 233 55 1183 119 17\n",
      "accuracy : 0.83\n",
      "7009 250 1345 702\n",
      "647 5826 1226 233 55 1183 119 17\n",
      "F1 Score : 0.47\n",
      "7009 250 1345 702\n",
      "647 5826 1226 233 55 1183 119 17\n",
      "FPR_male: 0.038455190625515764 FPR_female: 0.014166666666666666\n",
      "TPR_male: 0.34543513080619326 TPR_female: 0.3160919540229885\n",
      "aod sex: 0.0\n",
      "7009 250 1345 702\n",
      "647 5826 1226 233 55 1183 119 17\n",
      "TPR_male: 0.34543513080619326 TPR_female: 0.3160919540229885\n",
      "eod sex: 0.03\n",
      "7009 250 1345 702\n",
      "647 5826 1226 233 55 1183 119 17\n",
      "TPR_male: 0.34543513080619326 TPR_female: 0.3160919540229885\n",
      "TPR: 0.03\n",
      "7009 250 1345 702\n",
      "647 5826 1226 233 55 1183 119 17\n",
      "FPR_male: 0.038455190625515764 FPR_female: 0.014166666666666666\n",
      "FPR: -0.02\n"
     ]
    }
   ],
   "source": [
    "print(dataset_orig.shape)\n",
    "# np.random.seed(0)\n",
    "## Divide into train,validation,test\n",
    "dataset_orig_train, dataset_orig_test = train_test_split(dataset_orig, test_size=0.2, random_state=0,shuffle = True)\n",
    "\n",
    "X_train, y_train = dataset_orig_train.loc[:, dataset_orig_train.columns != 'Probability'], dataset_orig_train['Probability']\n",
    "X_test , y_test = dataset_orig_test.loc[:, dataset_orig_test.columns != 'Probability'], dataset_orig_test['Probability']\n",
    "\n",
    "# --- LSR\n",
    "clf = LogisticRegression(C=1.0, penalty='l2', solver='liblinear', max_iter=100)\n",
    "\n",
    "\n",
    "print(\"recall :\", measure_final_score(dataset_orig_test, clf, X_train, y_train, X_test, y_test, 'race', 'recall'))\n",
    "print(\"far :\",measure_final_score(dataset_orig_test, clf, X_train, y_train, X_test, y_test, 'race', 'far'))\n",
    "print(\"precision :\", measure_final_score(dataset_orig_test, clf, X_train, y_train, X_test, y_test, 'race', 'precision'))\n",
    "print(\"accuracy :\",measure_final_score(dataset_orig_test, clf, X_train, y_train, X_test, y_test, 'race', 'accuracy'))\n",
    "print(\"F1 Score :\",measure_final_score(dataset_orig_test, clf, X_train, y_train, X_test, y_test, 'race', 'F1'))\n",
    "print(\"aod sex:\",measure_final_score(dataset_orig_test, clf, X_train, y_train, X_test, y_test, 'race', 'aod'))\n",
    "print(\"eod sex:\",measure_final_score(dataset_orig_test, clf, X_train, y_train, X_test, y_test, 'race', 'eod'))\n",
    "\n",
    "print(\"TPR:\",measure_final_score(dataset_orig_test, clf, X_train, y_train, X_test, y_test, 'race', 'TPR'))\n",
    "print(\"FPR:\",measure_final_score(dataset_orig_test, clf, X_train, y_train, X_test, y_test, 'race', 'FPR'))\n",
    "\n"
   ]
  },
  {
   "cell_type": "code",
   "execution_count": null,
   "metadata": {},
   "outputs": [],
   "source": []
  }
 ],
 "metadata": {
  "kernelspec": {
   "display_name": "Python 3",
   "language": "python",
   "name": "python3"
  },
  "language_info": {
   "codemirror_mode": {
    "name": "ipython",
    "version": 3
   },
   "file_extension": ".py",
   "mimetype": "text/x-python",
   "name": "python",
   "nbconvert_exporter": "python",
   "pygments_lexer": "ipython3",
   "version": "3.6.4"
  }
 },
 "nbformat": 4,
 "nbformat_minor": 2
}
